{
  "nbformat": 4,
  "nbformat_minor": 0,
  "metadata": {
    "colab": {
      "provenance": [],
      "authorship_tag": "ABX9TyPL+oavOYI+Yiqe2OT4HVrI",
      "include_colab_link": true
    },
    "kernelspec": {
      "name": "python3",
      "display_name": "Python 3"
    },
    "language_info": {
      "name": "python"
    }
  },
  "cells": [
    {
      "cell_type": "markdown",
      "metadata": {
        "id": "view-in-github",
        "colab_type": "text"
      },
      "source": [
        "<a href=\"https://colab.research.google.com/github/Miralles245/Programacion/blob/main/Actividad_4_Ejercicios_4.ipynb\" target=\"_parent\"><img src=\"https://colab.research.google.com/assets/colab-badge.svg\" alt=\"Open In Colab\"/></a>"
      ]
    },
    {
      "cell_type": "code",
      "execution_count": null,
      "metadata": {
        "colab": {
          "base_uri": "https://localhost:8080/"
        },
        "id": "f5FXFJblm1NW",
        "outputId": "e3b730d7-ebdf-4ffc-a88a-73740248a0a8"
      },
      "outputs": [
        {
          "output_type": "stream",
          "name": "stdout",
          "text": [
            "Adivina el número que estoy pensando (entre 1 y 100)\n",
            "Introduce un número: 65\n",
            "El número que estoy pensando es menor\n"
          ]
        }
      ],
      "source": [
        "# Realiza el juego de “¿En qué número estoy pensando?”. \n",
        "# Se debe crear un programaque genere un valor aleatorio entre 1 y 100 y no se muestre.\n",
        "\n",
        "import random\n",
        "\n",
        "#Generamos un número aleatorio entre 1 y 100\n",
        "numero_aleatorio = random.randint(1,100)\n",
        "\n",
        "#Mostramos el texto de instrucción\n",
        "print(\"Adivina el número que estoy pensando (entre 1 y 100)\")\n",
        "\n",
        "#Solicitamos la lectura de un número\n",
        "numero_usuario = int(input(\"Introduce un número: \"))\n",
        "\n",
        "#Comprobamos si el número del usuario es correcto\n",
        "if numero_usuario == numero_aleatorio:\n",
        "    print(\"¡Has ganado!\")\n",
        "elif numero_usuario > numero_aleatorio:\n",
        "    print(\"El número que estoy pensando es menor\")\n",
        "else:\n",
        "    print(\"El número que estoy pensando es mayor\")\n"
      ]
    }
  ]
}